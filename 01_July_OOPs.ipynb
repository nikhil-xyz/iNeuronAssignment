{
 "cells": [
  {
   "cell_type": "markdown",
   "id": "c279e373",
   "metadata": {},
   "source": [
    "# 1. What is the primary goal of Object-Oriented Programming (OOP)?\n",
    "\n",
    "    Object-oriented programming (OOP) is a way of thinking about and organizing code for maximum reusability. With this type of programming, a program comprises objects that can interact with the user, other objects, or other programs. This makes programs more efficient and easier to understand."
   ]
  },
  {
   "cell_type": "markdown",
   "id": "e068d161",
   "metadata": {},
   "source": [
    "# 2. What is an object in Python?\n",
    "\n",
    "    An object is an interface between Object Oriented Programming (OOPs) and users. All the code that is designed in OOPs is accessed and manipulated only through objects. It is also called as an instance of a class."
   ]
  },
  {
   "cell_type": "markdown",
   "id": "f9764ad4",
   "metadata": {},
   "source": [
    "# 3. What is a class in Python?\n",
    "\n",
    "    The is designed to accomodate different functions and variables into single structure and use them through objects.\n",
    "    Ex. For a particular exam, different applicants have to fill one form. Different applicants here will act as a different object for the same form."
   ]
  },
  {
   "cell_type": "markdown",
   "id": "6f7c9cb5",
   "metadata": {},
   "source": [
    "# 4. What are attributes and methods in a class?\n",
    "\n",
    "    Attributes are the variables present inside the class. Attributes could either be of type instance or class. Based on the type of the attribute, their access procedure varies.\n",
    "    Methods are the function definitions available inside the class. Again, you need the object of a class to access these methods."
   ]
  },
  {
   "cell_type": "markdown",
   "id": "89a8373e",
   "metadata": {},
   "source": [
    "# 5. What is the difference between class variables and instance variables in Python?\n",
    "\n",
    "Class variable is the one that is defined inside the class and accessed by all the instances of that class. You don't need an object for class variable, it is accessible through class name.\n",
    "Instance variable is associated with the object of a class. Instance variable value could differ from object to object and can be accessed only through object instance."
   ]
  },
  {
   "cell_type": "code",
   "execution_count": 3,
   "id": "253e5b1e",
   "metadata": {},
   "outputs": [
    {
     "name": "stdout",
     "output_type": "stream",
     "text": [
      "The name is {self.name}. This is the instance variable\n",
      "This is the class variable 5\n"
     ]
    }
   ],
   "source": [
    "class Class_and_Instance:\n",
    "    class_variable = 5\n",
    "    def sample_method(self):\n",
    "        print(\"The name is {self.name}. This is the instance variable\")\n",
    "        \n",
    "ci = Class_and_Instance()\n",
    "ci.name = \"xyz\"\n",
    "ci.sample_method()\n",
    "print(f'This is the class variable {Class_and_Instance.class_variable}')"
   ]
  },
  {
   "cell_type": "markdown",
   "id": "351b03ba",
   "metadata": {},
   "source": [
    "# 6. What is the purpose of the self parameter in Python class methods?\n",
    "\n",
    "While calling the methods defined inside the class, self keyword has to be specified as a first argument in method parameters. It holds the current object state. \n",
    "def sample(self, param1, param2, ...., param_n):\n",
    "\n",
    "    pass"
   ]
  },
  {
   "cell_type": "code",
   "execution_count": 1,
   "id": "e5f9e1f6",
   "metadata": {},
   "outputs": [
    {
     "name": "stdout",
     "output_type": "stream",
     "text": [
      "The name is Nikhil\n"
     ]
    }
   ],
   "source": [
    "class sample:\n",
    "    def _print(self):\n",
    "        print(f\"The name is {self.name}\")\n",
    "s = sample()\n",
    "s.name = \"Nikhil\"\n",
    "s._print()"
   ]
  },
  {
   "cell_type": "markdown",
   "id": "9526840a",
   "metadata": {},
   "source": [
    "<!-- 7. For a library management system, you have to design the \"Book\" class with OOP\n",
    "principles in mind. The “Book” class will have following attributes:\n",
    "\n",
    "a. title: Represents the title of the book.\n",
    "b. author: Represents the author(s) of the book.\n",
    "c. isbn: Represents the ISBN (International Standard Book Number) of the book.\n",
    "d. publication_year: Represents the year of publication of the book.\n",
    "e. available_copies: Represents the number of copies available for checkout.\n",
    "The class will also include the following methods:\n",
    "a. check_out(self): Decrements the available copies by one if there are copies\n",
    "available for checkout.\n",
    "b. return_book(self): Increments the available copies by one when a book is\n",
    "returned.\n",
    "c. display_book_info(self): Displays the information about the book, including its\n",
    "attributes and the number of available copies. -->"
   ]
  },
  {
   "cell_type": "code",
   "execution_count": 7,
   "id": "e922d616",
   "metadata": {},
   "outputs": [
    {
     "name": "stdout",
     "output_type": "stream",
     "text": [
      "Book title is: abc\n",
      "Book author is: xyz\n",
      "ISBN is: 54125\n",
      "Publication Year: 1997\n",
      "Available Copies: 8\n",
      "Remaining copies are 7\n",
      "Available copies are 8\n"
     ]
    }
   ],
   "source": [
    "# 7. For a library management system, you have to design the \"Book\" class with OOP\n",
    "# principles in mind. The “Book” class will have following attributes:\n",
    "# a. title: Represents the title of the book.\n",
    "# b. author: Represents the author(s) of the book.\n",
    "# c. isbn: Represents the ISBN (International Standard Book Number) of the book.\n",
    "# d. publication_year: Represents the year of publication of the book.\n",
    "# e. available_copies: Represents the number of copies available for checkout.\n",
    "# The class will also include the following methods:\n",
    "# a. check_out(self): Decrements the available copies by one if there are copies\n",
    "# available for checkout.\n",
    "# b. return_book(self): Increments the available copies by one when a book is\n",
    "# returned.\n",
    "# c. display_book_info(self): Displays the information about the book, including its\n",
    "# attributes and the number of available copies.\n",
    "\n",
    "class Book:\n",
    "    def __init__(self, title, author, isbn, publication_year, available_copies):\n",
    "        self.title = title\n",
    "        self.author = author\n",
    "        self.isbn = isbn\n",
    "        self.publication_year = publication_year\n",
    "        self.available_copies = available_copies\n",
    "        \n",
    "    def check_out(self):\n",
    "        if (self.available_copies):\n",
    "            self.available_copies -= 1\n",
    "        print(f'Remaining copies are {self.available_copies}')\n",
    "    \n",
    "    def return_book(self):\n",
    "        self.available_copies += 1\n",
    "        print(f'Available copies are {self.available_copies}')\n",
    "    \n",
    "    def display_book_info(self):\n",
    "        print(f'Book title is: {self.title}')\n",
    "        print(f'Book author is: {self.author}')\n",
    "        print(f'ISBN is: {self.isbn}')\n",
    "        print(f'Publication Year: {self.publication_year}')\n",
    "        print(f'Available Copies: {self.available_copies}')\n",
    "        \n",
    "b = Book(\"abc\", \"xyz\", 54125, \"1997\", 8)\n",
    "b.display_book_info()\n",
    "b.check_out()\n",
    "b.return_book()"
   ]
  },
  {
   "cell_type": "code",
   "execution_count": 16,
   "id": "a773a5e8",
   "metadata": {},
   "outputs": [
    {
     "name": "stdout",
     "output_type": "stream",
     "text": [
      "Ticket id: 4563\n",
      "Event Name: Holi\n",
      "Event Date: 05-03-2023\n",
      "Venue: Nagpur\n",
      "Seat Number: 45\n",
      "Price: 874\n",
      "Is_Reserved: True\n",
      "_________________________\n",
      "The ticket 4563 is already reserved\n",
      "_________________________\n",
      "Reservation for the ticket 4563 has been cancelled\n",
      "_________________________\n",
      "Ticket id: 4563\n",
      "Event Name: Holi\n",
      "Event Date: 05-03-2023\n",
      "Venue: Nagpur\n",
      "Seat Number: 45\n",
      "Price: 874\n",
      "Is_Reserved: False\n",
      "_________________________\n",
      "The ticket 4563 is reserved\n",
      "_________________________\n",
      "Ticket id: 4563\n",
      "Event Name: Holi\n",
      "Event Date: 05-03-2023\n",
      "Venue: Nagpur\n",
      "Seat Number: 45\n",
      "Price: 874\n",
      "Is_Reserved: True\n"
     ]
    }
   ],
   "source": [
    "# 8. For a ticket booking system, you have to design the \"Ticket\" class with OOP\n",
    "# principles in mind. The “Ticket” class should have the following attributes:\n",
    "# a. ticket_id: Represents the unique identifier for the ticket.\n",
    "# b. event_name: Represents the name of the event.\n",
    "# c. event_date: Represents the date of the event.\n",
    "# d. venue: Represents the venue of the event.\n",
    "# e. seat_number: Represents the seat number associated with the ticket.\n",
    "# f. price: Represents the price of the ticket.\n",
    "# g. is_reserved: Represents the reservation status of the ticket.\n",
    "# The class also includes the following methods:\n",
    "# a. reserve_ticket(self): Marks the ticket as reserved if it is not already reserved.\n",
    "# b. cancel_reservation(self): Cancels the reservation of the ticket if it is already\n",
    "# reserved.\n",
    "# c. display_ticket_info(self): Displays the information about the ticket, including its\n",
    "# attributes and reservation status.\n",
    "\n",
    "class Ticket:\n",
    "    def __init__(self, ticket_id, event_name, event_date, venue, seat_number, price, is_reserved):\n",
    "        self.ticket_id = ticket_id\n",
    "        self.event_name = event_name\n",
    "        self.event_date = event_date\n",
    "        self.venue = venue\n",
    "        self.seat_number = seat_number\n",
    "        self.price = price\n",
    "        self.is_reserved = is_reserved\n",
    "        \n",
    "    def reserved_ticket(self):\n",
    "        if (self.is_reserved == False):\n",
    "            print(f'The ticket {self.ticket_id} is reserved')\n",
    "            self.is_reserved = True\n",
    "        else:\n",
    "            print(f'The ticket {self.ticket_id} is already reserved')\n",
    "            \n",
    "    def cancel_reservation(self):\n",
    "        if (self.is_reserved):\n",
    "            print(f'Reservation for the ticket {self.ticket_id} has been cancelled')\n",
    "            self.is_reserved = False\n",
    "            \n",
    "    def display_ticket_info(self):\n",
    "        print(f'Ticket id: {self.ticket_id}')\n",
    "        print(f'Event Name: {self.event_name}')\n",
    "        print(f'Event Date: {self.event_date}')\n",
    "        print(f'Venue: {self.venue}')\n",
    "        print(f'Seat Number: {self.seat_number}')\n",
    "        print(f'Price: {self.price}')\n",
    "        print(f'Is_Reserved: {self.is_reserved}')\n",
    "        \n",
    "ticket = Ticket(4563, \"Holi\", \"05-03-2023\", \"Nagpur\", 45, 874, True)\n",
    "ticket.display_ticket_info()\n",
    "print(\"_________________________\")\n",
    "ticket.reserved_ticket()\n",
    "print(\"_________________________\")\n",
    "ticket.cancel_reservation()\n",
    "print(\"_________________________\")\n",
    "ticket.display_ticket_info()\n",
    "print(\"_________________________\")\n",
    "ticket.reserved_ticket()\n",
    "print(\"_________________________\")\n",
    "ticket.display_ticket_info()"
   ]
  },
  {
   "cell_type": "code",
   "execution_count": 30,
   "id": "f1008735",
   "metadata": {},
   "outputs": [
    {
     "name": "stdout",
     "output_type": "stream",
     "text": [
      "[]\n",
      "Cart Items:\n",
      "bat\n",
      " \n",
      "__________________________\n",
      "Cart Items:\n",
      "bat\n",
      "ball\n",
      " \n",
      "__________________________\n",
      "The item net is already not present inside the list\n",
      "__________________________\n",
      "The item bat is removed from the list\n",
      "Cart Items:\n",
      "ball\n",
      " \n",
      "__________________________\n",
      "Cart is empty now\n",
      "Cart Items:\n",
      " \n"
     ]
    }
   ],
   "source": [
    "# 9. You are creating a shopping cart for an e-commerce website. Using OOP to model\n",
    "# the \"ShoppingCart\" functionality the class should contain following attributes and\n",
    "# methods:\n",
    "# a. items: Represents the list of items in the shopping cart.\n",
    "# The class also includes the following methods:\n",
    "\n",
    "# a. add_item(self, item): Adds an item to the shopping cart by appending it to the\n",
    "# list of items.\n",
    "# b. remove_item(self, item): Removes an item from the shopping cart if it exists in\n",
    "# the list.\n",
    "# c. view_cart(self): Displays the items currently present in the shopping cart.\n",
    "# d. clear_cart(self): Clears all items from the shopping cart by reassigning an\n",
    "# empty list to the items attribute.\n",
    "\n",
    "class ShoppingCart:\n",
    "    def __init__(self, item_list):\n",
    "        self.item_list = item_list\n",
    "        \n",
    "    def add_item(self, item):\n",
    "        self.item = item\n",
    "        item_list.append(self.item)\n",
    "        \n",
    "    def remove_item(self, item):\n",
    "        self.item = item\n",
    "        if item not in item_list:\n",
    "            print(f'The item {self.item} is already not present inside the list')\n",
    "        else:\n",
    "            item_list.remove(item)\n",
    "            print(f'The item {self.item} is removed from the list')\n",
    "            \n",
    "    def view_cart(self):\n",
    "        print('Cart Items:')\n",
    "        for i in item_list:\n",
    "            print(i, sep=\", \")\n",
    "        print(\" \")\n",
    "    \n",
    "    def clear_cart(self):\n",
    "        item_list.clear()\n",
    "        print('Cart is empty now')\n",
    "\n",
    "\n",
    "item_list = []\n",
    "cart = ShoppingCart(item_list)\n",
    "print(cart.item_list)\n",
    "cart.add_item(\"bat\")\n",
    "cart.view_cart()\n",
    "print(\"__________________________\")\n",
    "cart.add_item(\"ball\")\n",
    "cart.view_cart()\n",
    "print(\"__________________________\")\n",
    "cart.remove_item(\"net\")\n",
    "print(\"__________________________\")\n",
    "cart.remove_item(\"bat\")\n",
    "cart.view_cart()\n",
    "print(\"__________________________\")\n",
    "cart.clear_cart()\n",
    "cart.view_cart()"
   ]
  },
  {
   "cell_type": "code",
   "execution_count": 32,
   "id": "d053999d",
   "metadata": {},
   "outputs": [],
   "source": [
    "# 10. Imagine a school management system. You have to design the \"Student\" class using\n",
    "# OOP concepts.The “Student” class has the following attributes:\n",
    "# a. name: Represents the name of the student.\n",
    "# b. age: Represents the age of the student.\n",
    "# c. grade: Represents the grade or class of the student.\n",
    "# d. student_id: Represents the unique identifier for the student.\n",
    "# e. attendance: Represents the attendance record of the student.\n",
    "# The class should also include the following methods:\n",
    "# a. update_attendance(self, date, status): Updates the attendance record of the\n",
    "# student for a given date with the provided status (e.g., present or absent).\n",
    "# b. get_attendance(self): Returns the attendance record of the student.\n",
    "# c. get_average_attendance(self): Calculates and returns the average\n",
    "# attendance percentage of the student based on their attendance record.\n",
    "\n",
    "class Student:\n",
    "    unique_date = set()\n",
    "    def __init__(self, name, age, grade, student_id, attendance):\n",
    "        self.name = name\n",
    "        self.age = age\n",
    "        self.grade = grade\n",
    "        self.student_id = student_id\n",
    "        self.attendance = attendance\n",
    "        \n",
    "    def update_attendance(self, date, status):\n",
    "        self.date = date\n",
    "        self.status = status\n",
    "        if status:\n",
    "            self.attendance += 1\n",
    "    \n",
    "    def get_attendance(self):\n",
    "        print(f'{self.name} was present for {self.attendance} days')\n",
    "    \n",
    "    def get_average_attendance(self):\n",
    "        pass"
   ]
  },
  {
   "cell_type": "code",
   "execution_count": 35,
   "id": "1cc70e93",
   "metadata": {},
   "outputs": [],
   "source": [
    "s1 = Student('abc', 12, 'A', 46, 26)\n",
    "s1.update_attendance('12-02-2023', True)"
   ]
  },
  {
   "cell_type": "code",
   "execution_count": null,
   "id": "d27709cf",
   "metadata": {},
   "outputs": [],
   "source": []
  }
 ],
 "metadata": {
  "kernelspec": {
   "display_name": "Python 3 (ipykernel)",
   "language": "python",
   "name": "python3"
  },
  "language_info": {
   "codemirror_mode": {
    "name": "ipython",
    "version": 3
   },
   "file_extension": ".py",
   "mimetype": "text/x-python",
   "name": "python",
   "nbconvert_exporter": "python",
   "pygments_lexer": "ipython3",
   "version": "3.11.2"
  }
 },
 "nbformat": 4,
 "nbformat_minor": 5
}
