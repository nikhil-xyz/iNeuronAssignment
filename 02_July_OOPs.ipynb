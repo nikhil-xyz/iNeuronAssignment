{
 "cells": [
  {
   "cell_type": "markdown",
   "id": "3ea7acce",
   "metadata": {},
   "source": [
    "# 1. Explain what inheritance is in object-oriented programming and why it is used.\n",
    "\n",
    "Inheritance is the procedure in which one class inherits the attributes and methods of another class. The class whose properties and methods are inherited is known as the parent class or superclass. And the class that inherits the properties from the parent class is the child class or derived class.\n",
    "The key to understanding Inheritance is that it provides code re-usability. Instead of writing the same code repeatedly, we can simply inherit the properties of an existing class into the other. This, as you can imagine, saves a ton of time."
   ]
  },
  {
   "cell_type": "markdown",
   "id": "fabd8103",
   "metadata": {},
   "source": [
    "# 2. Discuss the concept of single inheritance and multiple inheritance, highlighting their differences and advantages.\n",
    "\n",
    "Single Inheritance:\n",
    "    This is a form of inheritance in which a class inherits only one parent class. This is the simple form of inheritance and hence, is also referred to as simple inheritance."
   ]
  },
  {
   "cell_type": "code",
   "execution_count": 2,
   "id": "9cfc2746",
   "metadata": {},
   "outputs": [
    {
     "name": "stdout",
     "output_type": "stream",
     "text": [
      "this is parent\n",
      "this is child\n"
     ]
    }
   ],
   "source": [
    "class Parent:\n",
    "    def __init__(self):\n",
    "        print('this is parent')\n",
    "class Child(Parent):\n",
    "    def __init__(self):\n",
    "        super().__init__() # calling parent\n",
    "        print('this is child')\n",
    "        \n",
    "c = Child()"
   ]
  },
  {
   "cell_type": "markdown",
   "id": "f07f1c97",
   "metadata": {},
   "source": [
    "Multiple Inheritance: An inheritance becomes multiple inheritances when a class inherits more than one parent class. The child class, after inheriting properties from various parent classes, has access to all of its objects."
   ]
  },
  {
   "cell_type": "code",
   "execution_count": 6,
   "id": "ebe57963",
   "metadata": {},
   "outputs": [
    {
     "name": "stdout",
     "output_type": "stream",
     "text": [
      "this is child class\n",
      "this is parent 1\n",
      "this is parent 2\n",
      "this is parent 3\n"
     ]
    }
   ],
   "source": [
    "class Parent1:\n",
    "    def p1(self):\n",
    "        print('this is parent 1')\n",
    "\n",
    "class Parent2:\n",
    "    def p2(self):\n",
    "        print('this is parent 2')\n",
    "\n",
    "class Parent3:\n",
    "    def p3(self):\n",
    "        print('this is parent 3')\n",
    "        \n",
    "# child class\n",
    "class Child(Parent1, Parent2, Parent3):\n",
    "    def __init__(self):\n",
    "        super().__init__()\n",
    "        print('this is child class')\n",
    "\n",
    "c = Child()\n",
    "c.p1()\n",
    "c.p2()\n",
    "c.p3()"
   ]
  },
  {
   "cell_type": "markdown",
   "id": "d852bd5d",
   "metadata": {},
   "source": [
    "# 3. Explain the terms \"base class\" and \"derived class\" in the context of inheritance.\n",
    "\n",
    "The class whose properties and methods are inherited is known as the base class. It is also known as the parent class. And the class that inherits the properties from the parent class is the child class or derived class. In the example given above, 'Parent' is the base class and 'Child' is the derived class."
   ]
  },
  {
   "cell_type": "markdown",
   "id": "e4336a1a",
   "metadata": {},
   "source": [
    "# 4. What is the significance of the \"protected\" access modifier in inheritance? How does it differ from \"private\" and \"public\" modifiers?\n",
    "\n",
    "The protected members of the class can be accessed by other members within the class also it can be accessible to the class derived from it. The data member of the class is declared protected by adding a single underscore “_” and this prevents it from being access."
   ]
  },
  {
   "cell_type": "code",
   "execution_count": 7,
   "id": "7a9170db",
   "metadata": {},
   "outputs": [
    {
     "name": "stdout",
     "output_type": "stream",
     "text": [
      "Si\n"
     ]
    }
   ],
   "source": [
    "class Teacher:\n",
    "    def __init__(self,name):\n",
    "        self._name=name\n",
    "    \n",
    "t1=Teacher(\"Si\")\n",
    "print(t1._name)"
   ]
  },
  {
   "cell_type": "markdown",
   "id": "132e1a65",
   "metadata": {},
   "source": [
    "The members of a class that are declared public are easily accessible from any part of the program. All data members and member functions of a class are public by default. The members of a class that are declared private are accessible within the class only, private access modifier is the most secure access modifier. Data members of a class are declared private by adding a double underscore ‘__’ symbol before the data member of that class. "
   ]
  },
  {
   "cell_type": "markdown",
   "id": "5bc97420",
   "metadata": {},
   "source": [
    "# 5. What is the purpose of the \"super\" keyword in inheritance? Provide an example.\n",
    "\n",
    "In Python, the super() function is used to refer to the parent class or superclass. It allows you to call methods defined in the superclass from the subclass, enabling you to extend and customize the functionality inherited from the parent class."
   ]
  },
  {
   "cell_type": "code",
   "execution_count": 8,
   "id": "a217c2df",
   "metadata": {},
   "outputs": [
    {
     "name": "stdout",
     "output_type": "stream",
     "text": [
      "this is parent\n",
      "this is child\n"
     ]
    }
   ],
   "source": [
    "class Parent:\n",
    "    def __init__(self):\n",
    "        print('this is parent')\n",
    "class Child(Parent):\n",
    "    def __init__(self):\n",
    "        super().__init__() # calling parent\n",
    "        print('this is child')\n",
    "        \n",
    "c = Child()"
   ]
  },
  {
   "cell_type": "code",
   "execution_count": 10,
   "id": "a0dd50e0",
   "metadata": {},
   "outputs": [
    {
     "name": "stdout",
     "output_type": "stream",
     "text": [
      "make: Hundai, model: i20, year: 2016, fuel type: Petrol\n"
     ]
    }
   ],
   "source": [
    "# 6. Create a base class called \"Vehicle\" with attributes like \"make\", \"model\", and \"year\".\n",
    "# Then, create a derived class called \"Car\" that inherits from \"Vehicle\" and adds an\n",
    "# attribute called \"fuel_type\". Implement appropriate methods in both classes.\n",
    "\n",
    "class Vehicle:\n",
    "    def __init__(self, make, model, year):\n",
    "        self.make = make\n",
    "        self.model = model\n",
    "        self.year = year\n",
    "        \n",
    "class Car(Vehicle):\n",
    "    def __init__(self, make, model, year, fuel_type):\n",
    "        super().__init__(make, model, year)\n",
    "        self.fuel_type = fuel_type\n",
    "        print(f'make: {self.make}, model: {self.model}, year: {self.year}, fuel type: {self.fuel_type}')\n",
    "        \n",
    "c = Car(\"Hundai\", \"i20\", \"2016\", \"Petrol\")"
   ]
  },
  {
   "cell_type": "code",
   "execution_count": 13,
   "id": "31260521",
   "metadata": {},
   "outputs": [
    {
     "name": "stdout",
     "output_type": "stream",
     "text": [
      "The name is: abc, salary is: 50000, and the department is: IT\n",
      "The name is: xyz, salary is: 60000, and the language is: C++\n"
     ]
    }
   ],
   "source": [
    "# 7. Create a base class called \"Employee\" with attributes like \"name\" and \"salary.\"\n",
    "# Derive two classes, \"Manager\" and \"Developer,\" from \"Employee.\" Add an additional\n",
    "# attribute called \"department\" for the \"Manager\" class and \"programming_language\"\n",
    "# for the \"Developer\" class.\n",
    "\n",
    "class Employee:\n",
    "    def __init__(self, name, salary):\n",
    "        self.name = name\n",
    "        self.salary = salary\n",
    "        \n",
    "class Manager(Employee):\n",
    "    def __init__(self, name, salary, department):\n",
    "        super().__init__(name, salary)\n",
    "        self.department = department\n",
    "        print(f'The name is: {self.name}, salary is: {self.salary}, and the department is: {self.department}')\n",
    "        \n",
    "class Developer(Employee):\n",
    "    def __init__(self, name, salary, programming_language):\n",
    "        super().__init__(name, salary)\n",
    "        self.programming_language = programming_language\n",
    "        print(f'The name is: {self.name}, salary is: {self.salary}, and the language is: {self.programming_language}')\n",
    "        \n",
    "m = Manager(\"abc\", 50000, \"IT\")\n",
    "d = Developer(\"xyz\", 60000, \"C++\")"
   ]
  },
  {
   "cell_type": "code",
   "execution_count": 14,
   "id": "419536c6",
   "metadata": {},
   "outputs": [
    {
     "name": "stdout",
     "output_type": "stream",
     "text": [
      "color: red, border width: 12, length: 36, width: 54\n",
      "color: green, border width: 25, radius: 10\n"
     ]
    }
   ],
   "source": [
    "# 8. Design a base class called \"Shape\" with attributes like \"colour\" and \"border_width.\"\n",
    "# Create derived classes, \"Rectangle\" and \"Circle,\" that inherit from \"Shape\" and add\n",
    "# specific attributes like \"length\" and \"width\" for the \"Rectangle\" class and \"radius\" for\n",
    "# the \"Circle\" class.\n",
    "\n",
    "class Shape:\n",
    "    def __init__(self, color, border_width):\n",
    "        self.color = color\n",
    "        self.border_width = border_width\n",
    "        \n",
    "class Rectangle(Shape):\n",
    "    def __init__(self, color, border_width, length, width):\n",
    "        super().__init__(color, border_width)\n",
    "        self.length = length\n",
    "        self.width = width\n",
    "        \n",
    "        print(f'color: {self.color}, border width: {self.border_width}, length: {self.length}, width: {self.width}')\n",
    "        \n",
    "class Circle(Shape):\n",
    "    def __init__(self, color, border_width, radius):\n",
    "        super().__init__(color, border_width)\n",
    "        self.radius = radius\n",
    "        \n",
    "        print(f'color: {self.color}, border width: {self.border_width}, radius: {self.radius}')\n",
    "        \n",
    "r = Rectangle(\"red\", 12, 36, 54)\n",
    "c = Circle(\"green\", 25, 10)"
   ]
  },
  {
   "cell_type": "code",
   "execution_count": 16,
   "id": "f753223d",
   "metadata": {},
   "outputs": [
    {
     "name": "stdout",
     "output_type": "stream",
     "text": [
      "Brand: Samsung, Model: s_series, Screen Size: 12*20\n",
      "Brand: Samsung, Model: s-Series, Battery Capacity: 4500 mAh\n"
     ]
    }
   ],
   "source": [
    "# 9. Create a base class called \"Device\" with attributes like \"brand\" and \"model.\" Derive\n",
    "# two classes, \"Phone\" and \"Tablet,\" from \"Device.\" Add specific attributes like\n",
    "# \"screen_size\" for the \"Phone\" class and \"battery_capacity\" for the \"Tablet\" class.\n",
    "\n",
    "class Device:\n",
    "    def __init__(self, brand, model):\n",
    "        self.brand = brand\n",
    "        self.model = model\n",
    "        \n",
    "class Phone(Device):\n",
    "    def __init__(self, brand, model, screen_size):\n",
    "        super().__init__(brand, model)\n",
    "        self.screen_size = screen_size\n",
    "        \n",
    "        print(f'Brand: {self.brand}, Model: {self.model}, Screen Size: {self.screen_size}')\n",
    "        \n",
    "class Tablet(Device):\n",
    "    def __init__(self, brand, model, battery_capacity):\n",
    "        super().__init__(brand, model)\n",
    "        self.battery_capacity = battery_capacity\n",
    "        \n",
    "        print(f'Brand: {self.brand}, Model: {self.model}, Battery Capacity: {self.battery_capacity}')\n",
    "        \n",
    "p = Phone(\"Samsung\", \"s_series\", \"12*20\")\n",
    "t = Tablet(\"Samsung\", \"s-Series\", \"4500 mAh\")"
   ]
  },
  {
   "cell_type": "code",
   "execution_count": 18,
   "id": "5d12220f",
   "metadata": {},
   "outputs": [
    {
     "name": "stdout",
     "output_type": "stream",
     "text": [
      "Account Number is 5645586565, and the Balance is 65000\n",
      "this is calculate interest method from SavingAccount class\n",
      "Account Number is 654894515, and the Balance is 75000\n",
      "this is deduct fees method from the CheckingAccount class\n"
     ]
    }
   ],
   "source": [
    "# 10. Create a base class called \"BankAccount\" with attributes like \"account_number\" and\n",
    "# \"balance.\" Derive two classes, \"SavingsAccount\" and \"CheckingAccount,\" from\n",
    "# \"BankAccount.\" Add specific methods like \"calculate_interest\" for the\n",
    "# \"SavingsAccount\" class and \"deduct_fees\" for the \"CheckingAccount\" class.\n",
    "\n",
    "class BankAccount:\n",
    "    def __init__(self, account_number, balance):\n",
    "        self.account_number = account_number\n",
    "        self.balance = balance\n",
    "        print(f'Account Number is {self.account_number}, and the Balance is {self.balance}')\n",
    "        \n",
    "class SavingAccount(BankAccount):\n",
    "    def __init__(self, account_number, balance):\n",
    "        super().__init__(account_number, balance)\n",
    "        \n",
    "    def calculate_interest(self):\n",
    "        print('this is calculate interest method from SavingAccount class')\n",
    "        \n",
    "class CheckingAccount(BankAccount):\n",
    "    def __init__(self, account_number, balance):\n",
    "        super().__init__(account_number, balance)\n",
    "        \n",
    "    def deduct_fees(self):\n",
    "        print(f'this is deduct fees method from the CheckingAccount class')\n",
    "        \n",
    "s = SavingAccount(\"5645586565\", 65000)\n",
    "s.calculate_interest()\n",
    "\n",
    "c = CheckingAccount(\"654894515\", 75000)\n",
    "c.deduct_fees()\n",
    "        \n"
   ]
  },
  {
   "cell_type": "code",
   "execution_count": null,
   "id": "8533e4c3",
   "metadata": {},
   "outputs": [],
   "source": []
  }
 ],
 "metadata": {
  "kernelspec": {
   "display_name": "Python 3 (ipykernel)",
   "language": "python",
   "name": "python3"
  },
  "language_info": {
   "codemirror_mode": {
    "name": "ipython",
    "version": 3
   },
   "file_extension": ".py",
   "mimetype": "text/x-python",
   "name": "python",
   "nbconvert_exporter": "python",
   "pygments_lexer": "ipython3",
   "version": "3.11.2"
  }
 },
 "nbformat": 4,
 "nbformat_minor": 5
}
